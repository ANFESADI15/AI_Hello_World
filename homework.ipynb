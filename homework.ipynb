{
  "nbformat": 4,
  "nbformat_minor": 0,
  "metadata": {
    "colab": {
      "provenance": []
    },
    "kernelspec": {
      "name": "python3",
      "display_name": "Python 3"
    },
    "language_info": {
      "name": "python"
    }
  },
  "cells": [
    {
      "cell_type": "markdown",
      "source": [
        "# Hello WorLd in AI\n"
      ],
      "metadata": {
        "id": "wuSIEAzax-_N"
      }
    },
    {
      "cell_type": "code",
      "execution_count": 8,
      "metadata": {
        "id": "-RtSmvneLtR_"
      },
      "outputs": [],
      "source": [
        "import numpy as np\n",
        "import tensorflow as tf\n",
        "from tensorflow import keras\n"
      ]
    },
    {
      "cell_type": "markdown",
      "source": [
        "### Variable creation"
      ],
      "metadata": {
        "id": "FpVJEVoV19cb"
      }
    },
    {
      "cell_type": "code",
      "source": [
        "ys=([])\n",
        "xs=([])\n",
        "pos=0\n",
        "num_range=([])"
      ],
      "metadata": {
        "id": "IEr6pM6w0BJs"
      },
      "execution_count": 9,
      "outputs": []
    },
    {
      "cell_type": "markdown",
      "source": [
        "### Defining the function"
      ],
      "metadata": {
        "id": "s5mfQt4F2F2P"
      }
    },
    {
      "cell_type": "code",
      "source": [
        "def hw_function(x):\n",
        "    y = (2  * x) - 1\n",
        "    return y"
      ],
      "metadata": {
        "id": "mJjBRncAyLEb"
      },
      "execution_count": 10,
      "outputs": []
    },
    {
      "cell_type": "code",
      "source": [
        "for i in range(0,11):\n",
        "  xs.append(i)\n",
        "  ys.append(hw_function(i))\n",
        "\n",
        "print(ys)\n",
        "#ys.append(hw_function(i))\n",
        "#print(ys)\n",
        "\n",
        "  "
      ],
      "metadata": {
        "colab": {
          "base_uri": "https://localhost:8080/"
        },
        "id": "epRvJGm0yMYj",
        "outputId": "6a953c6b-9ccd-4aaf-91ff-0bfa86055a0b"
      },
      "execution_count": 11,
      "outputs": [
        {
          "output_type": "stream",
          "name": "stdout",
          "text": [
            "[-1, 1, 3, 5, 7, 9, 11, 13, 15, 17, 19]\n"
          ]
        }
      ]
    },
    {
      "cell_type": "code",
      "source": [
        "model = tf.keras.Sequential([keras.layers.Dense(units=1,input_shape=[1])])\n",
        "model.compile(optimizer='SGD', loss='mean_squared_error')\n"
      ],
      "metadata": {
        "id": "iAlPkc08O-gH"
      },
      "execution_count": 12,
      "outputs": []
    },
    {
      "cell_type": "code",
      "source": [
        "model.fit(xs,ys,epochs=100)"
      ],
      "metadata": {
        "colab": {
          "base_uri": "https://localhost:8080/"
        },
        "id": "zkkrGJyVO-HH",
        "outputId": "63258aab-63d4-4c11-88cf-81c53fcbeb09"
      },
      "execution_count": 13,
      "outputs": [
        {
          "output_type": "stream",
          "name": "stdout",
          "text": [
            "Epoch 1/100\n",
            "1/1 [==============================] - 0s 327ms/step - loss: 48.0805\n",
            "Epoch 2/100\n",
            "1/1 [==============================] - 0s 14ms/step - loss: 4.2735\n",
            "Epoch 3/100\n",
            "1/1 [==============================] - 0s 14ms/step - loss: 0.6963\n",
            "Epoch 4/100\n",
            "1/1 [==============================] - 0s 17ms/step - loss: 0.4007\n",
            "Epoch 5/100\n",
            "1/1 [==============================] - 0s 14ms/step - loss: 0.3727\n",
            "Epoch 6/100\n",
            "1/1 [==============================] - 0s 13ms/step - loss: 0.3667\n",
            "Epoch 7/100\n",
            "1/1 [==============================] - 0s 16ms/step - loss: 0.3624\n",
            "Epoch 8/100\n",
            "1/1 [==============================] - 0s 17ms/step - loss: 0.3583\n",
            "Epoch 9/100\n",
            "1/1 [==============================] - 0s 17ms/step - loss: 0.3543\n",
            "Epoch 10/100\n",
            "1/1 [==============================] - 0s 12ms/step - loss: 0.3504\n",
            "Epoch 11/100\n",
            "1/1 [==============================] - 0s 16ms/step - loss: 0.3465\n",
            "Epoch 12/100\n",
            "1/1 [==============================] - 0s 11ms/step - loss: 0.3426\n",
            "Epoch 13/100\n",
            "1/1 [==============================] - 0s 16ms/step - loss: 0.3388\n",
            "Epoch 14/100\n",
            "1/1 [==============================] - 0s 15ms/step - loss: 0.3350\n",
            "Epoch 15/100\n",
            "1/1 [==============================] - 0s 14ms/step - loss: 0.3312\n",
            "Epoch 16/100\n",
            "1/1 [==============================] - 0s 13ms/step - loss: 0.3276\n",
            "Epoch 17/100\n",
            "1/1 [==============================] - 0s 12ms/step - loss: 0.3239\n",
            "Epoch 18/100\n",
            "1/1 [==============================] - 0s 12ms/step - loss: 0.3203\n",
            "Epoch 19/100\n",
            "1/1 [==============================] - 0s 14ms/step - loss: 0.3167\n",
            "Epoch 20/100\n",
            "1/1 [==============================] - 0s 14ms/step - loss: 0.3132\n",
            "Epoch 21/100\n",
            "1/1 [==============================] - 0s 13ms/step - loss: 0.3097\n",
            "Epoch 22/100\n",
            "1/1 [==============================] - 0s 11ms/step - loss: 0.3062\n",
            "Epoch 23/100\n",
            "1/1 [==============================] - 0s 18ms/step - loss: 0.3028\n",
            "Epoch 24/100\n",
            "1/1 [==============================] - 0s 11ms/step - loss: 0.2994\n",
            "Epoch 25/100\n",
            "1/1 [==============================] - 0s 12ms/step - loss: 0.2961\n",
            "Epoch 26/100\n",
            "1/1 [==============================] - 0s 13ms/step - loss: 0.2928\n",
            "Epoch 27/100\n",
            "1/1 [==============================] - 0s 11ms/step - loss: 0.2895\n",
            "Epoch 28/100\n",
            "1/1 [==============================] - 0s 15ms/step - loss: 0.2863\n",
            "Epoch 29/100\n",
            "1/1 [==============================] - 0s 12ms/step - loss: 0.2831\n",
            "Epoch 30/100\n",
            "1/1 [==============================] - 0s 19ms/step - loss: 0.2799\n",
            "Epoch 31/100\n",
            "1/1 [==============================] - 0s 16ms/step - loss: 0.2768\n",
            "Epoch 32/100\n",
            "1/1 [==============================] - 0s 21ms/step - loss: 0.2737\n",
            "Epoch 33/100\n",
            "1/1 [==============================] - 0s 13ms/step - loss: 0.2706\n",
            "Epoch 34/100\n",
            "1/1 [==============================] - 0s 28ms/step - loss: 0.2676\n",
            "Epoch 35/100\n",
            "1/1 [==============================] - 0s 37ms/step - loss: 0.2646\n",
            "Epoch 36/100\n",
            "1/1 [==============================] - 0s 20ms/step - loss: 0.2617\n",
            "Epoch 37/100\n",
            "1/1 [==============================] - 0s 15ms/step - loss: 0.2587\n",
            "Epoch 38/100\n",
            "1/1 [==============================] - 0s 19ms/step - loss: 0.2558\n",
            "Epoch 39/100\n",
            "1/1 [==============================] - 0s 28ms/step - loss: 0.2530\n",
            "Epoch 40/100\n",
            "1/1 [==============================] - 0s 35ms/step - loss: 0.2502\n",
            "Epoch 41/100\n",
            "1/1 [==============================] - 0s 31ms/step - loss: 0.2474\n",
            "Epoch 42/100\n",
            "1/1 [==============================] - 0s 13ms/step - loss: 0.2446\n",
            "Epoch 43/100\n",
            "1/1 [==============================] - 0s 17ms/step - loss: 0.2419\n",
            "Epoch 44/100\n",
            "1/1 [==============================] - 0s 21ms/step - loss: 0.2392\n",
            "Epoch 45/100\n",
            "1/1 [==============================] - 0s 27ms/step - loss: 0.2365\n",
            "Epoch 46/100\n",
            "1/1 [==============================] - 0s 12ms/step - loss: 0.2339\n",
            "Epoch 47/100\n",
            "1/1 [==============================] - 0s 12ms/step - loss: 0.2313\n",
            "Epoch 48/100\n",
            "1/1 [==============================] - 0s 13ms/step - loss: 0.2287\n",
            "Epoch 49/100\n",
            "1/1 [==============================] - 0s 15ms/step - loss: 0.2261\n",
            "Epoch 50/100\n",
            "1/1 [==============================] - 0s 14ms/step - loss: 0.2236\n",
            "Epoch 51/100\n",
            "1/1 [==============================] - 0s 17ms/step - loss: 0.2211\n",
            "Epoch 52/100\n",
            "1/1 [==============================] - 0s 15ms/step - loss: 0.2186\n",
            "Epoch 53/100\n",
            "1/1 [==============================] - 0s 14ms/step - loss: 0.2162\n",
            "Epoch 54/100\n",
            "1/1 [==============================] - 0s 13ms/step - loss: 0.2138\n",
            "Epoch 55/100\n",
            "1/1 [==============================] - 0s 18ms/step - loss: 0.2114\n",
            "Epoch 56/100\n",
            "1/1 [==============================] - 0s 14ms/step - loss: 0.2090\n",
            "Epoch 57/100\n",
            "1/1 [==============================] - 0s 12ms/step - loss: 0.2067\n",
            "Epoch 58/100\n",
            "1/1 [==============================] - 0s 20ms/step - loss: 0.2044\n",
            "Epoch 59/100\n",
            "1/1 [==============================] - 0s 14ms/step - loss: 0.2021\n",
            "Epoch 60/100\n",
            "1/1 [==============================] - 0s 14ms/step - loss: 0.1998\n",
            "Epoch 61/100\n",
            "1/1 [==============================] - 0s 18ms/step - loss: 0.1976\n",
            "Epoch 62/100\n",
            "1/1 [==============================] - 0s 15ms/step - loss: 0.1954\n",
            "Epoch 63/100\n",
            "1/1 [==============================] - 0s 16ms/step - loss: 0.1932\n",
            "Epoch 64/100\n",
            "1/1 [==============================] - 0s 17ms/step - loss: 0.1911\n",
            "Epoch 65/100\n",
            "1/1 [==============================] - 0s 16ms/step - loss: 0.1889\n",
            "Epoch 66/100\n",
            "1/1 [==============================] - 0s 19ms/step - loss: 0.1868\n",
            "Epoch 67/100\n",
            "1/1 [==============================] - 0s 17ms/step - loss: 0.1847\n",
            "Epoch 68/100\n",
            "1/1 [==============================] - 0s 14ms/step - loss: 0.1827\n",
            "Epoch 69/100\n",
            "1/1 [==============================] - 0s 15ms/step - loss: 0.1806\n",
            "Epoch 70/100\n",
            "1/1 [==============================] - 0s 13ms/step - loss: 0.1786\n",
            "Epoch 71/100\n",
            "1/1 [==============================] - 0s 19ms/step - loss: 0.1766\n",
            "Epoch 72/100\n",
            "1/1 [==============================] - 0s 16ms/step - loss: 0.1746\n",
            "Epoch 73/100\n",
            "1/1 [==============================] - 0s 17ms/step - loss: 0.1727\n",
            "Epoch 74/100\n",
            "1/1 [==============================] - 0s 24ms/step - loss: 0.1708\n",
            "Epoch 75/100\n",
            "1/1 [==============================] - 0s 13ms/step - loss: 0.1689\n",
            "Epoch 76/100\n",
            "1/1 [==============================] - 0s 15ms/step - loss: 0.1670\n",
            "Epoch 77/100\n",
            "1/1 [==============================] - 0s 15ms/step - loss: 0.1651\n",
            "Epoch 78/100\n",
            "1/1 [==============================] - 0s 13ms/step - loss: 0.1633\n",
            "Epoch 79/100\n",
            "1/1 [==============================] - 0s 14ms/step - loss: 0.1614\n",
            "Epoch 80/100\n",
            "1/1 [==============================] - 0s 28ms/step - loss: 0.1596\n",
            "Epoch 81/100\n",
            "1/1 [==============================] - 0s 16ms/step - loss: 0.1579\n",
            "Epoch 82/100\n",
            "1/1 [==============================] - 0s 16ms/step - loss: 0.1561\n",
            "Epoch 83/100\n",
            "1/1 [==============================] - 0s 15ms/step - loss: 0.1544\n",
            "Epoch 84/100\n",
            "1/1 [==============================] - 0s 14ms/step - loss: 0.1526\n",
            "Epoch 85/100\n",
            "1/1 [==============================] - 0s 14ms/step - loss: 0.1509\n",
            "Epoch 86/100\n",
            "1/1 [==============================] - 0s 16ms/step - loss: 0.1492\n",
            "Epoch 87/100\n",
            "1/1 [==============================] - 0s 12ms/step - loss: 0.1476\n",
            "Epoch 88/100\n",
            "1/1 [==============================] - 0s 15ms/step - loss: 0.1459\n",
            "Epoch 89/100\n",
            "1/1 [==============================] - 0s 18ms/step - loss: 0.1443\n",
            "Epoch 90/100\n",
            "1/1 [==============================] - 0s 13ms/step - loss: 0.1427\n",
            "Epoch 91/100\n",
            "1/1 [==============================] - 0s 11ms/step - loss: 0.1411\n",
            "Epoch 92/100\n",
            "1/1 [==============================] - 0s 25ms/step - loss: 0.1395\n",
            "Epoch 93/100\n",
            "1/1 [==============================] - 0s 16ms/step - loss: 0.1380\n",
            "Epoch 94/100\n",
            "1/1 [==============================] - 0s 18ms/step - loss: 0.1364\n",
            "Epoch 95/100\n",
            "1/1 [==============================] - 0s 13ms/step - loss: 0.1349\n",
            "Epoch 96/100\n",
            "1/1 [==============================] - 0s 12ms/step - loss: 0.1334\n",
            "Epoch 97/100\n",
            "1/1 [==============================] - 0s 16ms/step - loss: 0.1319\n",
            "Epoch 98/100\n",
            "1/1 [==============================] - 0s 12ms/step - loss: 0.1304\n",
            "Epoch 99/100\n",
            "1/1 [==============================] - 0s 12ms/step - loss: 0.1290\n",
            "Epoch 100/100\n",
            "1/1 [==============================] - 0s 11ms/step - loss: 0.1275\n"
          ]
        },
        {
          "output_type": "execute_result",
          "data": {
            "text/plain": [
              "<keras.callbacks.History at 0x7f368c218970>"
            ]
          },
          "metadata": {},
          "execution_count": 13
        }
      ]
    },
    {
      "cell_type": "code",
      "source": [
        "# Make a prediction\n",
        "print(model.predict([6.0]))"
      ],
      "metadata": {
        "colab": {
          "base_uri": "https://localhost:8080/"
        },
        "id": "1lAyhQPVszhL",
        "outputId": "d4082aec-66f1-4366-f274-2b8ecd19637e"
      },
      "execution_count": 14,
      "outputs": [
        {
          "output_type": "stream",
          "name": "stdout",
          "text": [
            "1/1 [==============================] - 0s 130ms/step\n",
            "[[11.09031]]\n"
          ]
        }
      ]
    }
  ]
}