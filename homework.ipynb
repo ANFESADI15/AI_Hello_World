{
  "nbformat": 4,
  "nbformat_minor": 0,
  "metadata": {
    "colab": {
      "provenance": []
    },
    "kernelspec": {
      "name": "python3",
      "display_name": "Python 3"
    },
    "language_info": {
      "name": "python"
    }
  },
  "cells": [
    {
      "cell_type": "markdown",
      "source": [
        "# Hello WorLd in AI\n"
      ],
      "metadata": {
        "id": "wuSIEAzax-_N"
      }
    },
    {
      "cell_type": "code",
      "execution_count": 1,
      "metadata": {
        "id": "-RtSmvneLtR_"
      },
      "outputs": [],
      "source": [
        "import numpy as np\n",
        "import tensorflow as tf\n",
        "from tensorflow import keras\n",
        "import keras\n",
        "from matplotlib import pyplot as plt\n",
        "import pandas as pd"
      ]
    },
    {
      "cell_type": "markdown",
      "source": [
        "### Variable creation"
      ],
      "metadata": {
        "id": "FpVJEVoV19cb"
      }
    },
    {
      "cell_type": "code",
      "source": [
        "ys=([])\n",
        "xs=([])\n",
        "pos=0\n",
        "num_range=([])"
      ],
      "metadata": {
        "id": "IEr6pM6w0BJs"
      },
      "execution_count": 2,
      "outputs": []
    },
    {
      "cell_type": "markdown",
      "source": [
        "### Defining the function"
      ],
      "metadata": {
        "id": "s5mfQt4F2F2P"
      }
    },
    {
      "cell_type": "code",
      "source": [
        "def hw_function(x):\n",
        "    y = (2  * x) - 1\n",
        "    return y"
      ],
      "metadata": {
        "id": "mJjBRncAyLEb"
      },
      "execution_count": 3,
      "outputs": []
    },
    {
      "cell_type": "code",
      "source": [
        "for i in range(0,11):\n",
        "  xs.append(i)\n",
        "  ys.append(hw_function(i))\n",
        "\n",
        "print(ys)\n",
        "#ys.append(hw_function(i))\n",
        "#print(ys)\n",
        "\n",
        "  "
      ],
      "metadata": {
        "colab": {
          "base_uri": "https://localhost:8080/"
        },
        "id": "epRvJGm0yMYj",
        "outputId": "bfe7f44a-084d-4f10-ad5e-f1b115b56a86"
      },
      "execution_count": 4,
      "outputs": [
        {
          "output_type": "stream",
          "name": "stdout",
          "text": [
            "[-1, 1, 3, 5, 7, 9, 11, 13, 15, 17, 19]\n"
          ]
        }
      ]
    },
    {
      "cell_type": "code",
      "source": [
        "model = tf.keras.Sequential([keras.layers.Dense(units=1,input_shape=[1])])\n",
        "model.compile(optimizer='SGD', loss='mean_squared_error', metrics=['accuracy'])\n"
      ],
      "metadata": {
        "id": "iAlPkc08O-gH"
      },
      "execution_count": 5,
      "outputs": []
    },
    {
      "cell_type": "markdown",
      "source": [
        "## Entrenamiento"
      ],
      "metadata": {
        "id": "Aq8CMQPqzvFf"
      }
    },
    {
      "cell_type": "code",
      "source": [
        "history= model.fit(xs,ys,epochs=50)"
      ],
      "metadata": {
        "colab": {
          "base_uri": "https://localhost:8080/"
        },
        "id": "Dn6AwAdFzv7W",
        "outputId": "8be76722-84a7-4fc4-b5e6-dfd5b27d451f"
      },
      "execution_count": 6,
      "outputs": [
        {
          "output_type": "stream",
          "name": "stdout",
          "text": [
            "Epoch 1/50\n",
            "1/1 [==============================] - 1s 913ms/step - loss: 120.8220 - accuracy: 0.0000e+00\n",
            "Epoch 2/50\n",
            "1/1 [==============================] - 0s 41ms/step - loss: 10.2678 - accuracy: 0.0909\n",
            "Epoch 3/50\n",
            "1/1 [==============================] - 0s 61ms/step - loss: 1.2456 - accuracy: 0.0909\n",
            "Epoch 4/50\n",
            "1/1 [==============================] - 0s 41ms/step - loss: 0.5051 - accuracy: 0.0909\n",
            "Epoch 5/50\n",
            "1/1 [==============================] - 0s 53ms/step - loss: 0.4402 - accuracy: 0.0909\n",
            "Epoch 6/50\n",
            "1/1 [==============================] - 0s 16ms/step - loss: 0.4305 - accuracy: 0.0909\n",
            "Epoch 7/50\n",
            "1/1 [==============================] - 0s 16ms/step - loss: 0.4253 - accuracy: 0.0909\n",
            "Epoch 8/50\n",
            "1/1 [==============================] - 0s 44ms/step - loss: 0.4205 - accuracy: 0.0909\n",
            "Epoch 9/50\n",
            "1/1 [==============================] - 0s 16ms/step - loss: 0.4158 - accuracy: 0.0909\n",
            "Epoch 10/50\n",
            "1/1 [==============================] - 0s 16ms/step - loss: 0.4111 - accuracy: 0.0909\n",
            "Epoch 11/50\n",
            "1/1 [==============================] - 0s 31ms/step - loss: 0.4066 - accuracy: 0.0909\n",
            "Epoch 12/50\n",
            "1/1 [==============================] - 0s 52ms/step - loss: 0.4020 - accuracy: 0.0909\n",
            "Epoch 13/50\n",
            "1/1 [==============================] - 0s 28ms/step - loss: 0.3975 - accuracy: 0.0909\n",
            "Epoch 14/50\n",
            "1/1 [==============================] - 0s 17ms/step - loss: 0.3931 - accuracy: 0.0909\n",
            "Epoch 15/50\n",
            "1/1 [==============================] - 0s 37ms/step - loss: 0.3887 - accuracy: 0.0909\n",
            "Epoch 16/50\n",
            "1/1 [==============================] - 0s 30ms/step - loss: 0.3844 - accuracy: 0.0909\n",
            "Epoch 17/50\n",
            "1/1 [==============================] - 0s 42ms/step - loss: 0.3801 - accuracy: 0.0909\n",
            "Epoch 18/50\n",
            "1/1 [==============================] - 0s 27ms/step - loss: 0.3758 - accuracy: 0.0909\n",
            "Epoch 19/50\n",
            "1/1 [==============================] - 0s 40ms/step - loss: 0.3716 - accuracy: 0.0909\n",
            "Epoch 20/50\n",
            "1/1 [==============================] - 0s 49ms/step - loss: 0.3675 - accuracy: 0.0909\n",
            "Epoch 21/50\n",
            "1/1 [==============================] - 0s 19ms/step - loss: 0.3634 - accuracy: 0.0909\n",
            "Epoch 22/50\n",
            "1/1 [==============================] - 0s 53ms/step - loss: 0.3593 - accuracy: 0.0909\n",
            "Epoch 23/50\n",
            "1/1 [==============================] - 0s 43ms/step - loss: 0.3553 - accuracy: 0.0909\n",
            "Epoch 24/50\n",
            "1/1 [==============================] - 0s 23ms/step - loss: 0.3513 - accuracy: 0.0909\n",
            "Epoch 25/50\n",
            "1/1 [==============================] - 0s 24ms/step - loss: 0.3474 - accuracy: 0.0909\n",
            "Epoch 26/50\n",
            "1/1 [==============================] - 0s 23ms/step - loss: 0.3435 - accuracy: 0.0909\n",
            "Epoch 27/50\n",
            "1/1 [==============================] - 0s 65ms/step - loss: 0.3397 - accuracy: 0.0909\n",
            "Epoch 28/50\n",
            "1/1 [==============================] - 0s 18ms/step - loss: 0.3359 - accuracy: 0.0909\n",
            "Epoch 29/50\n",
            "1/1 [==============================] - 0s 28ms/step - loss: 0.3321 - accuracy: 0.0909\n",
            "Epoch 30/50\n",
            "1/1 [==============================] - 0s 25ms/step - loss: 0.3284 - accuracy: 0.0909\n",
            "Epoch 31/50\n",
            "1/1 [==============================] - 0s 17ms/step - loss: 0.3248 - accuracy: 0.0909\n",
            "Epoch 32/50\n",
            "1/1 [==============================] - 0s 19ms/step - loss: 0.3211 - accuracy: 0.0909\n",
            "Epoch 33/50\n",
            "1/1 [==============================] - 0s 17ms/step - loss: 0.3176 - accuracy: 0.0909\n",
            "Epoch 34/50\n",
            "1/1 [==============================] - 0s 13ms/step - loss: 0.3140 - accuracy: 0.0909\n",
            "Epoch 35/50\n",
            "1/1 [==============================] - 0s 14ms/step - loss: 0.3105 - accuracy: 0.0909\n",
            "Epoch 36/50\n",
            "1/1 [==============================] - 0s 13ms/step - loss: 0.3070 - accuracy: 0.0909\n",
            "Epoch 37/50\n",
            "1/1 [==============================] - 0s 26ms/step - loss: 0.3036 - accuracy: 0.0909\n",
            "Epoch 38/50\n",
            "1/1 [==============================] - 0s 36ms/step - loss: 0.3002 - accuracy: 0.0909\n",
            "Epoch 39/50\n",
            "1/1 [==============================] - 0s 34ms/step - loss: 0.2969 - accuracy: 0.0909\n",
            "Epoch 40/50\n",
            "1/1 [==============================] - 0s 25ms/step - loss: 0.2935 - accuracy: 0.0909\n",
            "Epoch 41/50\n",
            "1/1 [==============================] - 0s 33ms/step - loss: 0.2903 - accuracy: 0.0909\n",
            "Epoch 42/50\n",
            "1/1 [==============================] - 0s 16ms/step - loss: 0.2870 - accuracy: 0.0909\n",
            "Epoch 43/50\n",
            "1/1 [==============================] - 0s 36ms/step - loss: 0.2838 - accuracy: 0.0909\n",
            "Epoch 44/50\n",
            "1/1 [==============================] - 0s 45ms/step - loss: 0.2807 - accuracy: 0.0909\n",
            "Epoch 45/50\n",
            "1/1 [==============================] - 0s 16ms/step - loss: 0.2775 - accuracy: 0.0909\n",
            "Epoch 46/50\n",
            "1/1 [==============================] - 0s 17ms/step - loss: 0.2744 - accuracy: 0.0909\n",
            "Epoch 47/50\n",
            "1/1 [==============================] - 0s 16ms/step - loss: 0.2714 - accuracy: 0.0909\n",
            "Epoch 48/50\n",
            "1/1 [==============================] - 0s 25ms/step - loss: 0.2683 - accuracy: 0.0909\n",
            "Epoch 49/50\n",
            "1/1 [==============================] - 0s 24ms/step - loss: 0.2653 - accuracy: 0.0909\n",
            "Epoch 50/50\n",
            "1/1 [==============================] - 0s 20ms/step - loss: 0.2624 - accuracy: 0.0909\n"
          ]
        }
      ]
    },
    {
      "cell_type": "markdown",
      "source": [
        "## Graficas"
      ],
      "metadata": {
        "id": "Q_WcwFg8zwR4"
      }
    },
    {
      "cell_type": "code",
      "source": [
        "plt.plot(history.history['accuracy'])\n",
        "#plt.plot(history.history['val_accuracy'])\n",
        "plt.title('model accuracy')\n",
        "plt.ylabel('accuracy')\n",
        "plt.xlabel('epoch')\n",
        "plt.legend(['train', 'val'], loc='upper right')\n",
        "plt.show()"
      ],
      "metadata": {
        "colab": {
          "base_uri": "https://localhost:8080/",
          "height": 295
        },
        "id": "zkkrGJyVO-HH",
        "outputId": "b4b5fc05-65c2-4118-9074-b905a0d89afa"
      },
      "execution_count": 10,
      "outputs": [
        {
          "output_type": "display_data",
          "data": {
            "text/plain": [
              "<Figure size 432x288 with 1 Axes>"
            ],
            "image/png": "[encoded data removed]"
          },
          "metadata": {
            "needs_background": "light"
          }
        }
      ]
    },
    {
      "cell_type": "code",
      "source": [
        "pd.DataFrame(history.history).plot(figsize=(8,5))\n",
        "plt.show()"
      ],
      "metadata": {
        "colab": {
          "base_uri": "https://localhost:8080/",
          "height": 320
        },
        "id": "tOpCkX0D01-v",
        "outputId": "f8372717-3046-46cb-b7b0-fbd522dce45d"
      },
      "execution_count": 8,
      "outputs": [
        {
          "output_type": "display_data",
          "data": {
            "text/plain": [
              "<Figure size 576x360 with 1 Axes>"
            ],
            "image/png": "[encoded data removed]"
          },
          "metadata": {
            "needs_background": "light"
          }
        }
      ]
    },
    {
      "cell_type": "code",
      "source": [
        "# Make a prediction\n",
        "print(model.predict([6.0]))"
      ],
      "metadata": {
        "colab": {
          "base_uri": "https://localhost:8080/"
        },
        "id": "1lAyhQPVszhL",
        "outputId": "3043a8a6-ef65-42f0-9681-58490ab2b2bc"
      },
      "execution_count": 9,
      "outputs": [
        {
          "output_type": "stream",
          "name": "stdout",
          "text": [
            "1/1 [==============================] - 0s 193ms/step\n",
            "[[11.129534]]\n"
          ]
        }
      ]
    }
  ]
}